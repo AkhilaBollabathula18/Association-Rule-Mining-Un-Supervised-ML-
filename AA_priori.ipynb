{
  "nbformat": 4,
  "nbformat_minor": 0,
  "metadata": {
    "colab": {
      "provenance": []
    },
    "kernelspec": {
      "name": "python3",
      "display_name": "Python 3"
    },
    "language_info": {
      "name": "python"
    }
  },
  "cells": [
    {
      "cell_type": "code",
      "execution_count": 2,
      "metadata": {
        "id": "vdIyDqwhkZ4H"
      },
      "outputs": [],
      "source": [
        "import pandas as pd\n",
        "import numpy as np\n",
        "import matplotlib.pyplot as plt\n",
        "import seaborn as sns"
      ]
    },
    {
      "cell_type": "code",
      "source": [
        "df=pd.read_csv(\"/content/Groceries data.csv\")\n",
        "df.head()"
      ],
      "metadata": {
        "id": "-NgrYLovk2Dq"
      },
      "execution_count": null,
      "outputs": []
    },
    {
      "cell_type": "code",
      "source": [
        "df.describe()"
      ],
      "metadata": {
        "id": "AAe6YZIdk-Io"
      },
      "execution_count": null,
      "outputs": []
    },
    {
      "cell_type": "code",
      "source": [
        "df.info()"
      ],
      "metadata": {
        "id": "hdz0XpsRlCbO"
      },
      "execution_count": null,
      "outputs": []
    },
    {
      "cell_type": "code",
      "source": [
        "df.shape"
      ],
      "metadata": {
        "id": "DHa0-hidlEBD"
      },
      "execution_count": null,
      "outputs": []
    },
    {
      "cell_type": "code",
      "source": [
        "df.isnull().sum()"
      ],
      "metadata": {
        "id": "LkW5MHU1lHxA"
      },
      "execution_count": null,
      "outputs": []
    },
    {
      "cell_type": "code",
      "source": [
        "df[df[\"Member_number\"]==1187]"
      ],
      "metadata": {
        "id": "lHADjdUDlJ-c"
      },
      "execution_count": null,
      "outputs": []
    },
    {
      "cell_type": "code",
      "source": [
        "df[\"item_count\"]=1"
      ],
      "metadata": {
        "id": "I9PUjqM7lWoJ"
      },
      "execution_count": 12,
      "outputs": []
    },
    {
      "cell_type": "code",
      "source": [
        "df.columns"
      ],
      "metadata": {
        "id": "-tC6aGJwlbUj"
      },
      "execution_count": null,
      "outputs": []
    },
    {
      "cell_type": "code",
      "source": [
        "df.head()"
      ],
      "metadata": {
        "id": "23gilkuAldc5"
      },
      "execution_count": null,
      "outputs": []
    },
    {
      "cell_type": "code",
      "source": [
        "df=df.drop(columns=[\"month\",\"day\",\"year\",\"day_of_week\"])"
      ],
      "metadata": {
        "id": "QZZi-G1Ylf_M"
      },
      "execution_count": 15,
      "outputs": []
    },
    {
      "cell_type": "code",
      "source": [
        "df.shape"
      ],
      "metadata": {
        "id": "VTIkFHzflsbo"
      },
      "execution_count": null,
      "outputs": []
    },
    {
      "cell_type": "code",
      "source": [
        "df[\"Member_number\"].value_counts()"
      ],
      "metadata": {
        "id": "m2jmU0TeltSr"
      },
      "execution_count": null,
      "outputs": []
    },
    {
      "cell_type": "code",
      "source": [
        "basket_df=(df.groupby([\"Member_number\",\"itemDescription\"]).sum().unstack().reset_index().fillna(0).set_index(\"Member_number\"))"
      ],
      "metadata": {
        "id": "TB3dhYIClzsx"
      },
      "execution_count": 19,
      "outputs": []
    },
    {
      "cell_type": "code",
      "source": [
        "basket_df\n"
      ],
      "metadata": {
        "id": "7pakZfwbmZC_"
      },
      "execution_count": null,
      "outputs": []
    },
    {
      "cell_type": "code",
      "source": [
        "def encode(x):\n",
        "  \"\"\"\n",
        "\n",
        "  Args:\n",
        "    x:\n",
        "\n",
        "  Returns:\n",
        "\n",
        "  \"\"\"\n",
        "  try:\n",
        "    x = float(x)\n",
        "  except ValueError:\n",
        "    return 0\n",
        "  if x<=0:\n",
        "    return 0\n",
        "  if x>=1:\n",
        "    return 1\n",
        "basket=basket_df.applymap(encode)\n",
        "basket.head()"
      ],
      "metadata": {
        "id": "n0JJSREKne56"
      },
      "execution_count": null,
      "outputs": []
    },
    {
      "cell_type": "code",
      "source": [
        "!pip install mlxtend"
      ],
      "metadata": {
        "id": "FIojk8VlngkX"
      },
      "execution_count": null,
      "outputs": []
    },
    {
      "cell_type": "code",
      "source": [
        "from mlxtend.frequent_patterns import apriori\n",
        "from mlxtend.frequent_patterns import association_rules"
      ],
      "metadata": {
        "id": "PRGbwoDtnqcM"
      },
      "execution_count": 24,
      "outputs": []
    },
    {
      "cell_type": "code",
      "source": [
        "frequent_patterns=apriori(basket,min_support=0.08,use_colnames=True)\n",
        "frequent_patterns.head(10)\n"
      ],
      "metadata": {
        "id": "dXun8E5ZntjT"
      },
      "execution_count": null,
      "outputs": []
    },
    {
      "cell_type": "code",
      "source": [
        "rules=association_rules(frequent_patterns,metric=\"lift\",min_threshold=0.75)\n",
        "rules.head(10)"
      ],
      "metadata": {
        "id": "Oepucd2xnxIb"
      },
      "execution_count": null,
      "outputs": []
    },
    {
      "cell_type": "code",
      "source": [
        "rules[(rules[\"lift\"]>=1) & (rules[\"confidence\"]>=0.5)]"
      ],
      "metadata": {
        "id": "2t5HgDAfn2bm"
      },
      "execution_count": null,
      "outputs": []
    }
  ]
}